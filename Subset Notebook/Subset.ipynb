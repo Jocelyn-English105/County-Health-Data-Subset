{
 "cells": [
  {
   "cell_type": "markdown",
   "id": "8581c838-af0a-4b50-91ac-99f2a7fef5ce",
   "metadata": {
    "tags": []
   },
   "source": [
    "## Computational Data Instructions"
   ]
  },
  {
   "cell_type": "markdown",
   "id": "598960c7-4251-4d28-b896-980030c075d6",
   "metadata": {},
   "source": [
    "The following will provide instructions to use computational methods to create a new subset of data using the County Health Data. It will indicate the programs used, the codes to explore the data, and the process of creating the new subset."
   ]
  },
  {
   "cell_type": "markdown",
   "id": "7041602d-0390-4f20-89a8-17de6bbc7b34",
   "metadata": {
    "tags": []
   },
   "source": [
    "### Tools"
   ]
  },
  {
   "cell_type": "markdown",
   "id": "ad6393bf-109b-4fc9-a260-01b9b864595b",
   "metadata": {},
   "source": [
    "The program used for this particular set was Juypter Lab which allowed the use of python. It also uses the Pandas package to manipulate the data.\n",
    "\n",
    "1. Create a folder on your computer for easy access to the files you will use. Your notebook, data, and other related files should be saved here.\n",
    "2. Download the [County Health Data_2014-2015](https://uncch.instructure.com/courses/11001/files/1951171?wrap=1) and save it to the folder you created on your computer. This particular data set is a .csv file.\n"
   ]
  },
  {
   "cell_type": "markdown",
   "id": "aaf970e5-b7b3-467b-9774-aa05a90be4c6",
   "metadata": {},
   "source": [
    "### Get Started"
   ]
  },
  {
   "cell_type": "markdown",
   "id": "ee1e8317-d4c6-495e-a217-23ca25ecb5ce",
   "metadata": {},
   "source": [
    "The next steps give instruction about creating the notebook and accessing the data.\n",
    "\n",
    "3. Begin by using the appropriate directory to launch your program. This is demonstrated on `Jupyter Lab`.\n",
    "4. Create a new notebook according to the graphical user interphase.\n",
    "\n",
    "The Pandas package needs to be imported in order to manipulate the data set. The command to import Pandas is `import pandas as pd'."
   ]
  },
  {
   "cell_type": "code",
   "execution_count": 23,
   "id": "d5092e2e-3b5f-4416-9164-4e25f91f080d",
   "metadata": {},
   "outputs": [],
   "source": [
    "import pandas as pd"
   ]
  },
  {
   "cell_type": "markdown",
   "id": "38f2fdc6-7b1a-4241-9872-f3d30d45f740",
   "metadata": {},
   "source": [
    "Once Pandas has been imported, the next step is to access your data. The County Health Data should have been saved to the same folder as your notebook. If the data cvs file is already in the directory it only needs to use the function `pd.read_csv()` to create a dataframe. \n",
    "\n",
    "- The dataframe needs the object (the data set) to be defined. For this we'll use `rawdata.` to define the object.\n",
    "\n",
    "5. To retrieve this data use the command:  `rawdata=pd.read_csv(CountyHealthData_2014-2015.csv\")`"
   ]
  },
  {
   "cell_type": "code",
   "execution_count": 24,
   "id": "e6c19f16-cf07-495c-b2e2-192cc4fb2f7b",
   "metadata": {},
   "outputs": [],
   "source": [
    "rawdata=pd.read_csv(\"CountyHealthData_2014-2015.csv\")"
   ]
  },
  {
   "cell_type": "markdown",
   "id": "59b76861-8ab9-437b-84c9-bfbbcf4c84ed",
   "metadata": {
    "tags": []
   },
   "source": [
    "### Explore the Data"
   ]
  },
  {
   "cell_type": "markdown",
   "id": "138856a1-c89f-4684-bf80-7534283504ad",
   "metadata": {},
   "source": [
    "This portion introduces the commands that will help explore and understand the data in our set. \n",
    "- One thing to note about this particular dataset is the column \"States\" is organized in alphabetical order.\n",
    "\n",
    "6. The `rawdata.shape` function allows us to know the amount of rows and columns in the data set. \n",
    "7. The `rawdata.size` function gives us the number of cells in our total data set. "
   ]
  },
  {
   "cell_type": "code",
   "execution_count": 11,
   "id": "20046966-8fe9-4365-bd53-00233d656cf2",
   "metadata": {},
   "outputs": [
    {
     "data": {
      "text/plain": [
       "(6109, 64)"
      ]
     },
     "execution_count": 11,
     "metadata": {},
     "output_type": "execute_result"
    }
   ],
   "source": [
    "rawdata.shape"
   ]
  },
  {
   "cell_type": "code",
   "execution_count": 12,
   "id": "c1c5ac88-0612-4528-b5c1-83341b41510d",
   "metadata": {
    "tags": []
   },
   "outputs": [
    {
     "data": {
      "text/plain": [
       "390976"
      ]
     },
     "execution_count": 12,
     "metadata": {},
     "output_type": "execute_result"
    }
   ],
   "source": [
    "rawdata.size"
   ]
  },
  {
   "cell_type": "markdown",
   "id": "ee3c452f-373b-4d7e-98ea-85e8cd0aefc0",
   "metadata": {},
   "source": [
    "There are two different functions that retrieve the column names.\n",
    "\n",
    "- The function `rawdata.columns` provides the column names one after the other.\n",
    "- The function `rawdata.dytpes` provides the column names alongside the datatype in each. This type of list may be easier to read at a glance."
   ]
  },
  {
   "cell_type": "code",
   "execution_count": 14,
   "id": "c59f6c0e-a3dc-4aec-94b5-4b92d548a93d",
   "metadata": {},
   "outputs": [
    {
     "data": {
      "text/plain": [
       "Index(['State', 'Region', 'Division', 'County', 'FIPS', 'GEOID', 'SMS Region',\n",
       "       'Year', 'Premature death', 'Poor or fair health',\n",
       "       'Poor physical health days', 'Poor mental health days',\n",
       "       'Low birthweight', 'Adult smoking', 'Adult obesity',\n",
       "       'Food environment index', 'Physical inactivity',\n",
       "       'Access to exercise opportunities', 'Excessive drinking',\n",
       "       'Alcohol-impaired driving deaths', 'Sexually transmitted infections',\n",
       "       'Teen births', 'Uninsured', 'Primary care physicians', 'Dentists',\n",
       "       'Mental health providers', 'Preventable hospital stays',\n",
       "       'Diabetic screening', 'Mammography screening', 'High school graduation',\n",
       "       'Some college', 'Unemployment', 'Children in poverty',\n",
       "       'Income inequality', 'Children in single-parent households',\n",
       "       'Social associations', 'Violent crime', 'Injury deaths',\n",
       "       'Air pollution - particulate matter', 'Drinking water violations',\n",
       "       'Severe housing problems', 'Driving alone to work',\n",
       "       'Long commute - driving alone', '2011 population estimate',\n",
       "       'Population that is not proficient in English',\n",
       "       'Population living in a rural area', 'Diabetes', 'HIV prevalence rate',\n",
       "       'Premature age-adjusted mortality', 'Infant mortality',\n",
       "       'Child mortality', 'Food insecurity', 'Limited access to healthy foods',\n",
       "       'Motor vehicle crash deaths', 'Drug poisoning deaths',\n",
       "       'Uninsured adults', 'Uninsured children', 'Health care costs',\n",
       "       'Could not see doctor due to cost', 'Other primary care providers',\n",
       "       'Median household income', 'Children eligible for free lunch',\n",
       "       'Homicide rate', 'Inadequate social support'],\n",
       "      dtype='object')"
      ]
     },
     "execution_count": 14,
     "metadata": {},
     "output_type": "execute_result"
    }
   ],
   "source": [
    "rawdata.columns"
   ]
  },
  {
   "cell_type": "code",
   "execution_count": 32,
   "id": "e09a16bb-ab4a-4dae-b086-a3864836f4b3",
   "metadata": {},
   "outputs": [
    {
     "data": {
      "text/plain": [
       "State                                object\n",
       "Region                               object\n",
       "Division                             object\n",
       "County                               object\n",
       "FIPS                                  int64\n",
       "                                     ...   \n",
       "Other primary care providers        float64\n",
       "Median household income               int64\n",
       "Children eligible for free lunch    float64\n",
       "Homicide rate                       float64\n",
       "Inadequate social support           float64\n",
       "Length: 64, dtype: object"
      ]
     },
     "execution_count": 32,
     "metadata": {},
     "output_type": "execute_result"
    }
   ],
   "source": [
    "rawdata.dtypes "
   ]
  },
  {
   "cell_type": "markdown",
   "id": "7c95d41c-de99-4e9c-a981-f5b71fa5a9b3",
   "metadata": {},
   "source": [
    "## Creating the New Subset"
   ]
  },
  {
   "cell_type": "markdown",
   "id": "dd370b97-6fd3-4f29-8691-5b2a445931d2",
   "metadata": {},
   "source": [
    "The next section focuses on manipulating the dataset to create digestable data tables. The data will focus on the prevalence of diabetes by state and region. \n",
    "\n",
    "- Using the `.value_counts()` function we can summon the data in a specific column and figure out how many times it is present. This function is useful to gauge the frequency and contribution of the \"Region\" and \"State\" columns in our data set.\n",
    "\n",
    "8. To code for the frequency of the \"Region\" column use `rawdata.Region.value_counts()` \n",
    "\n",
    "9. To code for the frequnecy of the \"State\" column use `rawdata.State.value_counts()`"
   ]
  },
  {
   "cell_type": "code",
   "execution_count": 6,
   "id": "ebfe3aad-c154-4184-8999-515ff530ffd2",
   "metadata": {},
   "outputs": [
    {
     "data": {
      "text/plain": [
       "South        2803\n",
       "Midwest      2038\n",
       "West          834\n",
       "Northeast     434\n",
       "Name: Region, dtype: int64"
      ]
     },
     "execution_count": 6,
     "metadata": {},
     "output_type": "execute_result"
    }
   ],
   "source": [
    "rawdata.Region.value_counts()"
   ]
  },
  {
   "cell_type": "code",
   "execution_count": 30,
   "id": "f662afc3-97ac-4cdb-b28f-7f397481fea2",
   "metadata": {},
   "outputs": [
    {
     "data": {
      "text/plain": [
       "TX    469\n",
       "GA    318\n",
       "VA    266\n",
       "KY    240\n",
       "MO    229\n",
       "IL    204\n",
       "NC    200\n",
       "KS    199\n",
       "IA    198\n",
       "TN    190\n",
       "IN    184\n",
       "OH    176\n",
       "MN    174\n",
       "MI    164\n",
       "MS    163\n",
       "NE    157\n",
       "OK    154\n",
       "AR    150\n",
       "WI    144\n",
       "FL    134\n",
       "PA    134\n",
       "AL    134\n",
       "LA    128\n",
       "NY    124\n",
       "CO    119\n",
       "SD    117\n",
       "CA    114\n",
       "WV    110\n",
       "ND     92\n",
       "MT     92\n",
       "SC     92\n",
       "ID     84\n",
       "WA     78\n",
       "OR     67\n",
       "NM     64\n",
       "UT     54\n",
       "MD     48\n",
       "AK     46\n",
       "WY     46\n",
       "NJ     42\n",
       "NV     32\n",
       "ME     32\n",
       "AZ     30\n",
       "MA     28\n",
       "VT     28\n",
       "NH     20\n",
       "CT     16\n",
       "RI     10\n",
       "HI      8\n",
       "DE      6\n",
       "DC      1\n",
       "Name: State, dtype: int64"
      ]
     },
     "execution_count": 30,
     "metadata": {},
     "output_type": "execute_result"
    }
   ],
   "source": [
    "rawdata.State.value_counts()"
   ]
  },
  {
   "cell_type": "markdown",
   "id": "a5556547-096e-4d5d-a41a-b4783549b596",
   "metadata": {},
   "source": [
    "The data that will be looked at more closely involves the state of North Carolina. After finding the first ten rows under the \"State\" column related to NC, the command `[\"State][ : ]` was used to confirm the cell numbers matched.\n",
    "\n",
    "10. Use the command `rawdata [\"State\"][3244:3253]` to confirm the state and dtype.\n"
   ]
  },
  {
   "cell_type": "code",
   "execution_count": 35,
   "id": "e214e5df-b708-4d4d-b384-5b995219ebab",
   "metadata": {
    "tags": []
   },
   "outputs": [
    {
     "data": {
      "text/plain": [
       "3244    NC\n",
       "3245    NC\n",
       "3246    NC\n",
       "3247    NC\n",
       "3248    NC\n",
       "3249    NC\n",
       "3250    NC\n",
       "3251    NC\n",
       "3252    NC\n",
       "Name: State, dtype: object"
      ]
     },
     "execution_count": 35,
     "metadata": {},
     "output_type": "execute_result"
    }
   ],
   "source": [
    "rawdata [\"State\"][3244:3253]"
   ]
  },
  {
   "cell_type": "markdown",
   "id": "78f6e7a8-53f5-44be-b6ef-5fc733c7961d",
   "metadata": {},
   "source": [
    "The following commands help visualize and read the data in a table. It includes the data under the columns \"State\", \"Region\", \"County\", and \"Diabetes\". The data shows the prevalence of diabetes in the state of North Carolina as well as the county name. Summoning specific columns can be done by using the command `.loc`\n",
    "\n",
    "11. Use the command `rawdata.loc[3244:3253,[\"State\", \"Region\", \"County\", \"Diabetes\"]]` to create a table."
   ]
  },
  {
   "cell_type": "code",
   "execution_count": 36,
   "id": "bae4603c-7918-44e3-b8cc-4de672ec77c9",
   "metadata": {},
   "outputs": [
    {
     "data": {
      "text/html": [
       "<div>\n",
       "<style scoped>\n",
       "    .dataframe tbody tr th:only-of-type {\n",
       "        vertical-align: middle;\n",
       "    }\n",
       "\n",
       "    .dataframe tbody tr th {\n",
       "        vertical-align: top;\n",
       "    }\n",
       "\n",
       "    .dataframe thead th {\n",
       "        text-align: right;\n",
       "    }\n",
       "</style>\n",
       "<table border=\"1\" class=\"dataframe\">\n",
       "  <thead>\n",
       "    <tr style=\"text-align: right;\">\n",
       "      <th></th>\n",
       "      <th>State</th>\n",
       "      <th>Region</th>\n",
       "      <th>County</th>\n",
       "      <th>Diabetes</th>\n",
       "    </tr>\n",
       "  </thead>\n",
       "  <tbody>\n",
       "    <tr>\n",
       "      <th>3244</th>\n",
       "      <td>NC</td>\n",
       "      <td>South</td>\n",
       "      <td>Alamance County</td>\n",
       "      <td>0.122</td>\n",
       "    </tr>\n",
       "    <tr>\n",
       "      <th>3245</th>\n",
       "      <td>NC</td>\n",
       "      <td>South</td>\n",
       "      <td>Alexander County</td>\n",
       "      <td>0.108</td>\n",
       "    </tr>\n",
       "    <tr>\n",
       "      <th>3246</th>\n",
       "      <td>NC</td>\n",
       "      <td>South</td>\n",
       "      <td>Alexander County</td>\n",
       "      <td>0.106</td>\n",
       "    </tr>\n",
       "    <tr>\n",
       "      <th>3247</th>\n",
       "      <td>NC</td>\n",
       "      <td>South</td>\n",
       "      <td>Alleghany County</td>\n",
       "      <td>0.114</td>\n",
       "    </tr>\n",
       "    <tr>\n",
       "      <th>3248</th>\n",
       "      <td>NC</td>\n",
       "      <td>South</td>\n",
       "      <td>Alleghany County</td>\n",
       "      <td>0.113</td>\n",
       "    </tr>\n",
       "    <tr>\n",
       "      <th>3249</th>\n",
       "      <td>NC</td>\n",
       "      <td>South</td>\n",
       "      <td>Anson County</td>\n",
       "      <td>0.133</td>\n",
       "    </tr>\n",
       "    <tr>\n",
       "      <th>3250</th>\n",
       "      <td>NC</td>\n",
       "      <td>South</td>\n",
       "      <td>Anson County</td>\n",
       "      <td>0.136</td>\n",
       "    </tr>\n",
       "    <tr>\n",
       "      <th>3251</th>\n",
       "      <td>NC</td>\n",
       "      <td>South</td>\n",
       "      <td>Ashe County</td>\n",
       "      <td>0.096</td>\n",
       "    </tr>\n",
       "    <tr>\n",
       "      <th>3252</th>\n",
       "      <td>NC</td>\n",
       "      <td>South</td>\n",
       "      <td>Ashe County</td>\n",
       "      <td>0.100</td>\n",
       "    </tr>\n",
       "    <tr>\n",
       "      <th>3253</th>\n",
       "      <td>NC</td>\n",
       "      <td>South</td>\n",
       "      <td>Avery County</td>\n",
       "      <td>0.105</td>\n",
       "    </tr>\n",
       "  </tbody>\n",
       "</table>\n",
       "</div>"
      ],
      "text/plain": [
       "     State Region            County  Diabetes\n",
       "3244    NC  South   Alamance County     0.122\n",
       "3245    NC  South  Alexander County     0.108\n",
       "3246    NC  South  Alexander County     0.106\n",
       "3247    NC  South  Alleghany County     0.114\n",
       "3248    NC  South  Alleghany County     0.113\n",
       "3249    NC  South      Anson County     0.133\n",
       "3250    NC  South      Anson County     0.136\n",
       "3251    NC  South       Ashe County     0.096\n",
       "3252    NC  South       Ashe County     0.100\n",
       "3253    NC  South      Avery County     0.105"
      ]
     },
     "execution_count": 36,
     "metadata": {},
     "output_type": "execute_result"
    }
   ],
   "source": [
    "rawdata.loc[3244:3253,[\"State\", \"Region\", \"County\", \"Diabetes\"]]"
   ]
  },
  {
   "cell_type": "markdown",
   "id": "0d6e4e7c-e68f-452c-a4b8-f2d39e78d9a7",
   "metadata": {},
   "source": [
    "- For the purpose of the next table, the \"Region\" column was included in this data table to stay consistent with the next one.\n",
    "\n",
    "The last step involves a random sample using the same columns from the table above. In steps 8 & 9 the command helped guage the amount of times the data appeared in the set. That information will be relevant when analyzing the random sample you are provided with in the following table. The last table will require the `.loc` attribute. It will also use `.sample(n= )` to generate a random sample of rows from the dataset.\n",
    "\n",
    "12. Use the command `rawdata.loc[:,[\"State\", \"Region\", \"County\", \"Diabetes\"]].sample(n=10)` to generate the table with a random sample from the data."
   ]
  },
  {
   "cell_type": "code",
   "execution_count": 31,
   "id": "31d996f1-3bc6-4f89-97c1-26499bf0c8d9",
   "metadata": {},
   "outputs": [
    {
     "data": {
      "text/html": [
       "<div>\n",
       "<style scoped>\n",
       "    .dataframe tbody tr th:only-of-type {\n",
       "        vertical-align: middle;\n",
       "    }\n",
       "\n",
       "    .dataframe tbody tr th {\n",
       "        vertical-align: top;\n",
       "    }\n",
       "\n",
       "    .dataframe thead th {\n",
       "        text-align: right;\n",
       "    }\n",
       "</style>\n",
       "<table border=\"1\" class=\"dataframe\">\n",
       "  <thead>\n",
       "    <tr style=\"text-align: right;\">\n",
       "      <th></th>\n",
       "      <th>State</th>\n",
       "      <th>Region</th>\n",
       "      <th>County</th>\n",
       "      <th>Diabetes</th>\n",
       "    </tr>\n",
       "  </thead>\n",
       "  <tbody>\n",
       "    <tr>\n",
       "      <th>3853</th>\n",
       "      <td>NY</td>\n",
       "      <td>Northeast</td>\n",
       "      <td>Allegany County</td>\n",
       "      <td>0.109</td>\n",
       "    </tr>\n",
       "    <tr>\n",
       "      <th>4066</th>\n",
       "      <td>OH</td>\n",
       "      <td>Midwest</td>\n",
       "      <td>Lorain County</td>\n",
       "      <td>0.116</td>\n",
       "    </tr>\n",
       "    <tr>\n",
       "      <th>5613</th>\n",
       "      <td>VA</td>\n",
       "      <td>South</td>\n",
       "      <td>Norton city</td>\n",
       "      <td>0.099</td>\n",
       "    </tr>\n",
       "    <tr>\n",
       "      <th>5691</th>\n",
       "      <td>VA</td>\n",
       "      <td>South</td>\n",
       "      <td>Westmoreland County</td>\n",
       "      <td>0.128</td>\n",
       "    </tr>\n",
       "    <tr>\n",
       "      <th>1900</th>\n",
       "      <td>KS</td>\n",
       "      <td>Midwest</td>\n",
       "      <td>Riley County</td>\n",
       "      <td>0.060</td>\n",
       "    </tr>\n",
       "    <tr>\n",
       "      <th>2572</th>\n",
       "      <td>MI</td>\n",
       "      <td>Midwest</td>\n",
       "      <td>St. Clair County</td>\n",
       "      <td>0.101</td>\n",
       "    </tr>\n",
       "    <tr>\n",
       "      <th>4978</th>\n",
       "      <td>TX</td>\n",
       "      <td>South</td>\n",
       "      <td>Castro County</td>\n",
       "      <td>0.103</td>\n",
       "    </tr>\n",
       "    <tr>\n",
       "      <th>4162</th>\n",
       "      <td>OK</td>\n",
       "      <td>South</td>\n",
       "      <td>Bryan County</td>\n",
       "      <td>0.118</td>\n",
       "    </tr>\n",
       "    <tr>\n",
       "      <th>1503</th>\n",
       "      <td>IL</td>\n",
       "      <td>Midwest</td>\n",
       "      <td>Perry County</td>\n",
       "      <td>0.100</td>\n",
       "    </tr>\n",
       "    <tr>\n",
       "      <th>3550</th>\n",
       "      <td>NE</td>\n",
       "      <td>Midwest</td>\n",
       "      <td>Burt County</td>\n",
       "      <td>0.109</td>\n",
       "    </tr>\n",
       "  </tbody>\n",
       "</table>\n",
       "</div>"
      ],
      "text/plain": [
       "     State     Region               County  Diabetes\n",
       "3853    NY  Northeast      Allegany County     0.109\n",
       "4066    OH    Midwest        Lorain County     0.116\n",
       "5613    VA      South          Norton city     0.099\n",
       "5691    VA      South  Westmoreland County     0.128\n",
       "1900    KS    Midwest         Riley County     0.060\n",
       "2572    MI    Midwest     St. Clair County     0.101\n",
       "4978    TX      South        Castro County     0.103\n",
       "4162    OK      South         Bryan County     0.118\n",
       "1503    IL    Midwest         Perry County     0.100\n",
       "3550    NE    Midwest          Burt County     0.109"
      ]
     },
     "execution_count": 31,
     "metadata": {},
     "output_type": "execute_result"
    }
   ],
   "source": [
    "rawdata.loc[:,[\"State\",\"Region\",\"County\",\"Diabetes\"]].sample(n=10)"
   ]
  },
  {
   "cell_type": "code",
   "execution_count": 50,
   "id": "fe60f759-dc6d-4b6a-b7c3-9ca4c4de26b2",
   "metadata": {},
   "outputs": [],
   "source": [
    "rawdata.to_csv(\"rawdata.csv\")"
   ]
  },
  {
   "cell_type": "code",
   "execution_count": 52,
   "id": "9b22a3da-2ddc-4b26-817d-c7ef8d00bfde",
   "metadata": {},
   "outputs": [],
   "source": [
    "rawdata.to_csv(\"rawdata.csv\", index=False)"
   ]
  }
 ],
 "metadata": {
  "kernelspec": {
   "display_name": "Python 3 (ipykernel)",
   "language": "python",
   "name": "python3"
  },
  "language_info": {
   "codemirror_mode": {
    "name": "ipython",
    "version": 3
   },
   "file_extension": ".py",
   "mimetype": "text/x-python",
   "name": "python",
   "nbconvert_exporter": "python",
   "pygments_lexer": "ipython3",
   "version": "3.9.13"
  }
 },
 "nbformat": 4,
 "nbformat_minor": 5
}
